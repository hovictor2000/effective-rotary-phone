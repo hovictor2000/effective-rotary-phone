{
 "cells": [
  {
   "cell_type": "markdown",
   "metadata": {},
   "source": [
    "# Initializing things"
   ]
  },
  {
   "cell_type": "code",
   "execution_count": 1,
   "metadata": {},
   "outputs": [],
   "source": [
    "import pandas as pd\n",
    "import os\n",
    "import glob\n",
    "import numpy as np\n",
    "import matplotlib.pyplot as plt\n",
    "import json\n",
    "import pickle"
   ]
  },
  {
   "cell_type": "code",
   "execution_count": 3,
   "metadata": {},
   "outputs": [
    {
     "data": {
      "text/plain": [
       "['D:SafeGraph_Data\\\\2020\\\\08\\\\01\\\\2020-08-01-social-distancing.csv.gz',\n",
       " 'D:SafeGraph_Data\\\\2020\\\\08\\\\02\\\\2020-08-02-social-distancing.csv.gz',\n",
       " 'D:SafeGraph_Data\\\\2020\\\\08\\\\03\\\\2020-08-03-social-distancing.csv.gz',\n",
       " 'D:SafeGraph_Data\\\\2020\\\\08\\\\04\\\\2020-08-04-social-distancing.csv.gz',\n",
       " 'D:SafeGraph_Data\\\\2020\\\\08\\\\05\\\\2020-08-05-social-distancing.csv.gz',\n",
       " 'D:SafeGraph_Data\\\\2020\\\\08\\\\06\\\\2020-08-06-social-distancing.csv.gz',\n",
       " 'D:SafeGraph_Data\\\\2020\\\\08\\\\07\\\\2020-08-07-social-distancing.csv.gz',\n",
       " 'D:SafeGraph_Data\\\\2020\\\\08\\\\08\\\\2020-08-08-social-distancing.csv.gz',\n",
       " 'D:SafeGraph_Data\\\\2020\\\\08\\\\09\\\\2020-08-09-social-distancing.csv.gz',\n",
       " 'D:SafeGraph_Data\\\\2020\\\\08\\\\10\\\\2020-08-10-social-distancing.csv.gz',\n",
       " 'D:SafeGraph_Data\\\\2020\\\\08\\\\11\\\\2020-08-11-social-distancing.csv.gz',\n",
       " 'D:SafeGraph_Data\\\\2020\\\\08\\\\12\\\\2020-08-12-social-distancing.csv.gz',\n",
       " 'D:SafeGraph_Data\\\\2020\\\\08\\\\13\\\\2020-08-13-social-distancing.csv.gz',\n",
       " 'D:SafeGraph_Data\\\\2020\\\\08\\\\14\\\\2020-08-14-social-distancing.csv.gz',\n",
       " 'D:SafeGraph_Data\\\\2020\\\\08\\\\15\\\\2020-08-15-social-distancing.csv.gz',\n",
       " 'D:SafeGraph_Data\\\\2020\\\\08\\\\16\\\\2020-08-16-social-distancing.csv.gz',\n",
       " 'D:SafeGraph_Data\\\\2020\\\\08\\\\17\\\\2020-08-17-social-distancing.csv.gz',\n",
       " 'D:SafeGraph_Data\\\\2020\\\\08\\\\18\\\\2020-08-18-social-distancing.csv.gz',\n",
       " 'D:SafeGraph_Data\\\\2020\\\\08\\\\19\\\\2020-08-19-social-distancing.csv.gz',\n",
       " 'D:SafeGraph_Data\\\\2020\\\\08\\\\20\\\\2020-08-20-social-distancing.csv.gz',\n",
       " 'D:SafeGraph_Data\\\\2020\\\\08\\\\21\\\\2020-08-21-social-distancing.csv.gz',\n",
       " 'D:SafeGraph_Data\\\\2020\\\\08\\\\22\\\\2020-08-22-social-distancing.csv.gz',\n",
       " 'D:SafeGraph_Data\\\\2020\\\\08\\\\23\\\\2020-08-23-social-distancing.csv.gz',\n",
       " 'D:SafeGraph_Data\\\\2020\\\\08\\\\24\\\\2020-08-24-social-distancing.csv.gz',\n",
       " 'D:SafeGraph_Data\\\\2020\\\\08\\\\25\\\\2020-08-25-social-distancing.csv.gz',\n",
       " 'D:SafeGraph_Data\\\\2020\\\\08\\\\26\\\\2020-08-26-social-distancing.csv.gz',\n",
       " 'D:SafeGraph_Data\\\\2020\\\\08\\\\27\\\\2020-08-27-social-distancing.csv.gz',\n",
       " 'D:SafeGraph_Data\\\\2020\\\\08\\\\28\\\\2020-08-28-social-distancing.csv.gz',\n",
       " 'D:SafeGraph_Data\\\\2020\\\\08\\\\29\\\\2020-08-29-social-distancing.csv.gz',\n",
       " 'D:SafeGraph_Data\\\\2020\\\\08\\\\30\\\\2020-08-30-social-distancing.csv.gz',\n",
       " 'D:SafeGraph_Data\\\\2020\\\\08\\\\31\\\\2020-08-31-social-distancing.csv.gz',\n",
       " 'D:SafeGraph_Data\\\\2020\\\\09\\\\01\\\\2020-09-01-social-distancing.csv.gz',\n",
       " 'D:SafeGraph_Data\\\\2020\\\\09\\\\02\\\\2020-09-02-social-distancing.csv.gz',\n",
       " 'D:SafeGraph_Data\\\\2020\\\\09\\\\03\\\\2020-09-03-social-distancing.csv.gz',\n",
       " 'D:SafeGraph_Data\\\\2020\\\\09\\\\04\\\\2020-09-04-social-distancing.csv.gz',\n",
       " 'D:SafeGraph_Data\\\\2020\\\\09\\\\05\\\\2020-09-05-social-distancing.csv.gz',\n",
       " 'D:SafeGraph_Data\\\\2020\\\\09\\\\06\\\\2020-09-06-social-distancing.csv.gz',\n",
       " 'D:SafeGraph_Data\\\\2020\\\\09\\\\07\\\\2020-09-07-social-distancing.csv.gz',\n",
       " 'D:SafeGraph_Data\\\\2020\\\\09\\\\08\\\\2020-09-08-social-distancing.csv.gz',\n",
       " 'D:SafeGraph_Data\\\\2020\\\\09\\\\09\\\\2020-09-09-social-distancing.csv.gz',\n",
       " 'D:SafeGraph_Data\\\\2020\\\\09\\\\10\\\\2020-09-10-social-distancing.csv.gz',\n",
       " 'D:SafeGraph_Data\\\\2020\\\\09\\\\11\\\\2020-09-11-social-distancing.csv.gz',\n",
       " 'D:SafeGraph_Data\\\\2020\\\\09\\\\12\\\\2020-09-12-social-distancing.csv.gz',\n",
       " 'D:SafeGraph_Data\\\\2020\\\\09\\\\13\\\\2020-09-13-social-distancing.csv.gz',\n",
       " 'D:SafeGraph_Data\\\\2020\\\\09\\\\14\\\\2020-09-14-social-distancing.csv.gz',\n",
       " 'D:SafeGraph_Data\\\\2020\\\\09\\\\15\\\\2020-09-15-social-distancing.csv.gz',\n",
       " 'D:SafeGraph_Data\\\\2020\\\\09\\\\16\\\\2020-09-16-social-distancing.csv.gz',\n",
       " 'D:SafeGraph_Data\\\\2020\\\\09\\\\17\\\\2020-09-17-social-distancing.csv.gz',\n",
       " 'D:SafeGraph_Data\\\\2020\\\\09\\\\18\\\\2020-09-18-social-distancing.csv.gz',\n",
       " 'D:SafeGraph_Data\\\\2020\\\\09\\\\19\\\\2020-09-19-social-distancing.csv.gz',\n",
       " 'D:SafeGraph_Data\\\\2020\\\\09\\\\20\\\\2020-09-20-social-distancing.csv.gz',\n",
       " 'D:SafeGraph_Data\\\\2020\\\\09\\\\21\\\\2020-09-21-social-distancing.csv.gz',\n",
       " 'D:SafeGraph_Data\\\\2020\\\\09\\\\22\\\\2020-09-22-social-distancing.csv.gz',\n",
       " 'D:SafeGraph_Data\\\\2020\\\\09\\\\23\\\\2020-09-23-social-distancing.csv.gz',\n",
       " 'D:SafeGraph_Data\\\\2020\\\\09\\\\24\\\\2020-09-24-social-distancing.csv.gz',\n",
       " 'D:SafeGraph_Data\\\\2020\\\\09\\\\25\\\\2020-09-25-social-distancing.csv.gz',\n",
       " 'D:SafeGraph_Data\\\\2020\\\\09\\\\26\\\\2020-09-26-social-distancing.csv.gz',\n",
       " 'D:SafeGraph_Data\\\\2020\\\\09\\\\27\\\\2020-09-27-social-distancing.csv.gz',\n",
       " 'D:SafeGraph_Data\\\\2020\\\\09\\\\28\\\\2020-09-28-social-distancing.csv.gz',\n",
       " 'D:SafeGraph_Data\\\\2020\\\\09\\\\29\\\\2020-09-29-social-distancing.csv.gz',\n",
       " 'D:SafeGraph_Data\\\\2020\\\\09\\\\30\\\\2020-09-30-social-distancing.csv.gz',\n",
       " 'D:SafeGraph_Data\\\\2020\\\\10\\\\01\\\\2020-10-01-social-distancing.csv.gz',\n",
       " 'D:SafeGraph_Data\\\\2020\\\\10\\\\02\\\\2020-10-02-social-distancing.csv.gz',\n",
       " 'D:SafeGraph_Data\\\\2020\\\\10\\\\03\\\\2020-10-03-social-distancing.csv.gz',\n",
       " 'D:SafeGraph_Data\\\\2020\\\\10\\\\04\\\\2020-10-04-social-distancing.csv.gz',\n",
       " 'D:SafeGraph_Data\\\\2020\\\\10\\\\05\\\\2020-10-05-social-distancing.csv.gz',\n",
       " 'D:SafeGraph_Data\\\\2020\\\\10\\\\06\\\\2020-10-06-social-distancing.csv.gz',\n",
       " 'D:SafeGraph_Data\\\\2020\\\\10\\\\07\\\\2020-10-07-social-distancing.csv.gz',\n",
       " 'D:SafeGraph_Data\\\\2020\\\\10\\\\08\\\\2020-10-08-social-distancing.csv.gz',\n",
       " 'D:SafeGraph_Data\\\\2020\\\\10\\\\09\\\\2020-10-09-social-distancing.csv.gz',\n",
       " 'D:SafeGraph_Data\\\\2020\\\\10\\\\10\\\\2020-10-10-social-distancing.csv.gz',\n",
       " 'D:SafeGraph_Data\\\\2020\\\\10\\\\11\\\\2020-10-11-social-distancing.csv.gz',\n",
       " 'D:SafeGraph_Data\\\\2020\\\\10\\\\12\\\\2020-10-12-social-distancing.csv.gz',\n",
       " 'D:SafeGraph_Data\\\\2020\\\\10\\\\13\\\\2020-10-13-social-distancing.csv.gz',\n",
       " 'D:SafeGraph_Data\\\\2020\\\\10\\\\14\\\\2020-10-14-social-distancing.csv.gz',\n",
       " 'D:SafeGraph_Data\\\\2020\\\\10\\\\15\\\\2020-10-15-social-distancing.csv.gz',\n",
       " 'D:SafeGraph_Data\\\\2020\\\\10\\\\16\\\\2020-10-16-social-distancing.csv.gz',\n",
       " 'D:SafeGraph_Data\\\\2020\\\\10\\\\17\\\\2020-10-17-social-distancing.csv.gz',\n",
       " 'D:SafeGraph_Data\\\\2020\\\\10\\\\18\\\\2020-10-18-social-distancing.csv.gz',\n",
       " 'D:SafeGraph_Data\\\\2020\\\\10\\\\19\\\\2020-10-19-social-distancing.csv.gz',\n",
       " 'D:SafeGraph_Data\\\\2020\\\\10\\\\20\\\\2020-10-20-social-distancing.csv.gz',\n",
       " 'D:SafeGraph_Data\\\\2020\\\\10\\\\21\\\\2020-10-21-social-distancing.csv.gz',\n",
       " 'D:SafeGraph_Data\\\\2020\\\\10\\\\22\\\\2020-10-22-social-distancing.csv.gz',\n",
       " 'D:SafeGraph_Data\\\\2020\\\\10\\\\23\\\\2020-10-23-social-distancing.csv.gz',\n",
       " 'D:SafeGraph_Data\\\\2020\\\\10\\\\24\\\\2020-10-24-social-distancing.csv.gz',\n",
       " 'D:SafeGraph_Data\\\\2020\\\\10\\\\25\\\\2020-10-25-social-distancing.csv.gz',\n",
       " 'D:SafeGraph_Data\\\\2020\\\\10\\\\26\\\\2020-10-26-social-distancing.csv.gz',\n",
       " 'D:SafeGraph_Data\\\\2020\\\\10\\\\27\\\\2020-10-27-social-distancing.csv.gz',\n",
       " 'D:SafeGraph_Data\\\\2020\\\\10\\\\28\\\\2020-10-28-social-distancing.csv.gz',\n",
       " 'D:SafeGraph_Data\\\\2020\\\\10\\\\29\\\\2020-10-29-social-distancing.csv.gz',\n",
       " 'D:SafeGraph_Data\\\\2020\\\\10\\\\30\\\\2020-10-30-social-distancing.csv.gz',\n",
       " 'D:SafeGraph_Data\\\\2020\\\\10\\\\31\\\\2020-10-31-social-distancing.csv.gz',\n",
       " 'D:SafeGraph_Data\\\\2020\\\\11\\\\01\\\\2020-11-01-social-distancing.csv.gz',\n",
       " 'D:SafeGraph_Data\\\\2020\\\\11\\\\02\\\\2020-11-02-social-distancing.csv.gz',\n",
       " 'D:SafeGraph_Data\\\\2020\\\\11\\\\03\\\\2020-11-03-social-distancing.csv.gz',\n",
       " 'D:SafeGraph_Data\\\\2020\\\\11\\\\04\\\\2020-11-04-social-distancing.csv.gz',\n",
       " 'D:SafeGraph_Data\\\\2020\\\\11\\\\05\\\\2020-11-05-social-distancing.csv.gz',\n",
       " 'D:SafeGraph_Data\\\\2020\\\\11\\\\06\\\\2020-11-06-social-distancing.csv.gz',\n",
       " 'D:SafeGraph_Data\\\\2020\\\\11\\\\07\\\\2020-11-07-social-distancing.csv.gz',\n",
       " 'D:SafeGraph_Data\\\\2020\\\\11\\\\08\\\\2020-11-08-social-distancing.csv.gz',\n",
       " 'D:SafeGraph_Data\\\\2020\\\\11\\\\09\\\\2020-11-09-social-distancing.csv.gz',\n",
       " 'D:SafeGraph_Data\\\\2020\\\\11\\\\10\\\\2020-11-10-social-distancing.csv.gz',\n",
       " 'D:SafeGraph_Data\\\\2020\\\\11\\\\11\\\\2020-11-11-social-distancing.csv.gz',\n",
       " 'D:SafeGraph_Data\\\\2020\\\\11\\\\12\\\\2020-11-12-social-distancing.csv.gz',\n",
       " 'D:SafeGraph_Data\\\\2020\\\\11\\\\13\\\\2020-11-13-social-distancing.csv.gz',\n",
       " 'D:SafeGraph_Data\\\\2020\\\\11\\\\14\\\\2020-11-14-social-distancing.csv.gz',\n",
       " 'D:SafeGraph_Data\\\\2020\\\\11\\\\15\\\\2020-11-15-social-distancing.csv.gz',\n",
       " 'D:SafeGraph_Data\\\\2020\\\\11\\\\16\\\\2020-11-16-social-distancing.csv.gz',\n",
       " 'D:SafeGraph_Data\\\\2020\\\\11\\\\17\\\\2020-11-17-social-distancing.csv.gz',\n",
       " 'D:SafeGraph_Data\\\\2020\\\\11\\\\18\\\\2020-11-18-social-distancing.csv.gz',\n",
       " 'D:SafeGraph_Data\\\\2020\\\\11\\\\19\\\\2020-11-19-social-distancing.csv.gz',\n",
       " 'D:SafeGraph_Data\\\\2020\\\\11\\\\20\\\\2020-11-20-social-distancing.csv.gz',\n",
       " 'D:SafeGraph_Data\\\\2020\\\\11\\\\21\\\\2020-11-21-social-distancing.csv.gz',\n",
       " 'D:SafeGraph_Data\\\\2020\\\\11\\\\22\\\\2020-11-22-social-distancing.csv.gz',\n",
       " 'D:SafeGraph_Data\\\\2020\\\\11\\\\23\\\\2020-11-23-social-distancing.csv.gz',\n",
       " 'D:SafeGraph_Data\\\\2020\\\\11\\\\24\\\\2020-11-24-social-distancing.csv.gz',\n",
       " 'D:SafeGraph_Data\\\\2020\\\\11\\\\25\\\\2020-11-25-social-distancing.csv.gz',\n",
       " 'D:SafeGraph_Data\\\\2020\\\\11\\\\26\\\\2020-11-26-social-distancing.csv.gz',\n",
       " 'D:SafeGraph_Data\\\\2020\\\\11\\\\27\\\\2020-11-27-social-distancing.csv.gz',\n",
       " 'D:SafeGraph_Data\\\\2020\\\\11\\\\28\\\\2020-11-28-social-distancing.csv.gz']"
      ]
     },
     "execution_count": 3,
     "metadata": {},
     "output_type": "execute_result"
    }
   ],
   "source": [
    "# Get all the files after sept\n",
    "# Probably horrible implementation but I just want something that works right now\n",
    "\n",
    "aug = glob.glob(os.path.join('D:', 'SafeGraph_Data', '2020', '08', '**', '*.gz'))\n",
    "sept = glob.glob(os.path.join('D:', 'SafeGraph_Data', '2020', '09', '**', '*.gz'))\n",
    "oct = sept_files = glob.glob(os.path.join('D:', 'SafeGraph_Data', '2020', '10', '**', '*.gz'))\n",
    "nov = sept_files = glob.glob(os.path.join('D:', 'SafeGraph_Data', '2020', '11', '**', '*.gz'))\n",
    "dec = sept_files = glob.glob(os.path.join('D:', 'SafeGraph_Data', '2020', '12', '**', '*.gz'))\n",
    "\n",
    "files = aug + sept + oct + nov + dec\n",
    "\n",
    "files"
   ]
  },
  {
   "cell_type": "code",
   "execution_count": 4,
   "metadata": {},
   "outputs": [],
   "source": [
    "df_original = []\n",
    "# Adds every csv.gz file as a panda dataframe to list df_original\n",
    "for file in files:\n",
    "    df = pd.read_csv(file, compression='gzip', usecols=['origin_census_block_group', \n",
    "                                                         'device_count', 'completely_home_device_count',\n",
    "                                                        'destination_cbgs'])\n",
    "    df['origin_census_block_group'] = df['origin_census_block_group'].astype(str)\n",
    "    # Filters for Honolulu county\n",
    "    temp = df['origin_census_block_group'].str.contains('^15003')\n",
    "    df_original.append(df[temp])\n"
   ]
  },
  {
   "cell_type": "markdown",
   "metadata": {},
   "source": [
    "# Miscellaneous functions/variables"
   ]
  },
  {
   "cell_type": "code",
   "execution_count": 5,
   "metadata": {},
   "outputs": [],
   "source": [
    "# Save the extracted csvs as a pickle\n",
    "pickle_out = open(\"uh.pickle\", \"wb\")\n",
    "pickle.dump(df_original, pickle_out)\n",
    "pickle_out.close()"
   ]
  },
  {
   "cell_type": "code",
   "execution_count": 6,
   "metadata": {},
   "outputs": [
    {
     "name": "stdout",
     "output_type": "stream",
     "text": [
      "     origin_census_block_group  device_count  completely_home_device_count  \\\n",
      "327               150030078092            93                            21   \n",
      "791               150030077022           131                            37   \n",
      "1048              150030075061            31                             7   \n",
      "1801              150030099044            55                            18   \n",
      "2483              150030095021            80                            22   \n",
      "\n",
      "                                       destination_cbgs  \n",
      "327   {\"150030086121\":1,\"150030084061\":1,\"1500300800...  \n",
      "791   {\"150030077022\":105,\"150030075021\":1,\"15003008...  \n",
      "1048  {\"150030075041\":1,\"150010215092\":1,\"1307303050...  \n",
      "1801  {\"150030086121\":3,\"150030087022\":4,\"1500300800...  \n",
      "2483  {\"150030036012\":2,\"150039806001\":1,\"2909501850...  \n",
      "120\n"
     ]
    }
   ],
   "source": [
    "# Load the pickle with the extracted csvs\n",
    "pickle_in = open(\"uh.pickle\", \"rb\")\n",
    "df_original = pickle.load(pickle_in)\n",
    "print(df_original[0].head())\n",
    "print(len(df_original))"
   ]
  },
  {
   "cell_type": "code",
   "execution_count": 7,
   "metadata": {
    "scrolled": false
   },
   "outputs": [
    {
     "name": "stdout",
     "output_type": "stream",
     "text": [
      "     origin_census_block_group  device_count  completely_home_device_count  \\\n",
      "327               150030078092            93                            21   \n",
      "791               150030077022           131                            37   \n",
      "1048              150030075061            31                             7   \n",
      "1801              150030099044            55                            18   \n",
      "2483              150030095021            80                            22   \n",
      "\n",
      "                                       destination_cbgs  \n",
      "327   {\"150030086121\":1,\"150030084061\":1,\"1500300800...  \n",
      "791   {\"150030077022\":105,\"150030075021\":1,\"15003008...  \n",
      "1048  {\"150030075041\":1,\"150010215092\":1,\"1307303050...  \n",
      "1801  {\"150030086121\":3,\"150030087022\":4,\"1500300800...  \n",
      "2483  {\"150030036012\":2,\"150039806001\":1,\"2909501850...  \n",
      "120\n"
     ]
    }
   ],
   "source": [
    "print(df_original[0].head())\n",
    "print(len(df_original))"
   ]
  },
  {
   "cell_type": "code",
   "execution_count": 8,
   "metadata": {},
   "outputs": [
    {
     "data": {
      "text/plain": [
       "96792"
      ]
     },
     "execution_count": 8,
     "metadata": {},
     "output_type": "execute_result"
    }
   ],
   "source": [
    "# It's weird to import funcs from other notebooks so I just copy pasted some code\n",
    "# I should switch to another IDE\n",
    "\n",
    "# Get file with all the info on zips and CBGs\n",
    "df_zip = pd.read_excel(r'C:\\Users\\Victor\\Documents\\covid research stuff\\ZIP_TRACT_092020.xlsx')\n",
    "\n",
    "# Make dictionary out of the values\n",
    "zips = dict(zip(df_zip.TRACT.astype('str'), df_zip.ZIP))\n",
    "\n",
    "hawaii_zips = {k:v for k,v in zips.items() if (v > 96700 and v < 96899)}\n",
    "\n",
    "hawaii_zips['15003009801']"
   ]
  },
  {
   "cell_type": "code",
   "execution_count": 9,
   "metadata": {},
   "outputs": [],
   "source": [
    "# Returns the zip given the cbg in hawaii\n",
    "def converter(cbg):\n",
    "    zipCBG = None\n",
    "    # Checks each cbg if it's a given Hawaiian zipcode\n",
    "    for key in hawaii_zips:\n",
    "        if key in cbg:\n",
    "            zipCBG = key\n",
    "    # cbg in Hawaii, but not in list so cbg is returned\n",
    "    if zipCBG == None:\n",
    "        return cbg\n",
    "    return hawaii_zips[zipCBG]"
   ]
  },
  {
   "cell_type": "markdown",
   "metadata": {},
   "source": [
    "# Working with the data"
   ]
  },
  {
   "cell_type": "code",
   "execution_count": 10,
   "metadata": {},
   "outputs": [],
   "source": [
    "visits = []\n",
    "visits_zips = []\n",
    "\n",
    "# I'm pretty sure this is horribly inefficient (it iterates over every spreadsheet)\n",
    "# But it works, so improve it later\n",
    "# For every dataframe, iterate over destination_cbgs for all tracts, and sum the visits to waianae's tracts\n",
    "for df in df_original:\n",
    "    zip_dic = {}\n",
    "    day_visits = 0\n",
    "    # Checks every row, column in dataframe\n",
    "    for index, row in df.iterrows():\n",
    "        origin_cbg = row['origin_census_block_group']\n",
    "        raw = row['destination_cbgs']\n",
    "        dic = json.loads(raw)\n",
    "        # Checks every key in destination_cbg dict for uh manoa\n",
    "        for key in dic:\n",
    "            if converter(key) == 96822:\n",
    "                day_visits += dic[key]\n",
    "                cbg_zip = converter(origin_cbg)\n",
    "                if cbg_zip in zip_dic:\n",
    "                    zip_dic[cbg_zip] += dic[key]\n",
    "                else:\n",
    "                    zip_dic[cbg_zip] = dic[key]\n",
    "    visits.append(day_visits)\n",
    "    visits_zips.append(zip_dic)"
   ]
  },
  {
   "cell_type": "code",
   "execution_count": 11,
   "metadata": {},
   "outputs": [
    {
     "name": "stdout",
     "output_type": "stream",
     "text": [
      "{96701: 40, 96818: 95, 96791: 3, 96786: 9, 96816: 68, 96822: 2120, 96797: 81, 96707: 38, 96848: 5, 96819: 77, 96744: 55, 96824: 5, 96731: 3, 96817: 125, 96825: 37, 96815: 40, 96857: 3, 96814: 52, 96792: 24, 96826: 76, 96821: 23, 96706: 49, 96828: 17, 96734: 23, 96789: 41, 96859: 6, 96762: 1, 96836: 5, 96709: 9, 96813: 36, 96837: 1, 96782: 33, 96830: 5, 96823: 13, 96795: 6, 96730: 1, 96861: 1, '150039900010': 2, 96850: 4, 96898: 3, 96839: 5, 96858: 2}\n",
      "3242\n",
      "3242\n"
     ]
    }
   ],
   "source": [
    "# Double checking if everything is correct\n",
    "\n",
    "test = 0\n",
    "dicta = visits_zips[0]\n",
    "\n",
    "for key in dicta:\n",
    "    test += dicta[key]\n",
    "    \n",
    "print(visits_zips[0])\n",
    "print(test)\n",
    "print(visits[0])"
   ]
  },
  {
   "cell_type": "markdown",
   "metadata": {},
   "source": [
    "# Graphing"
   ]
  },
  {
   "cell_type": "code",
   "execution_count": 12,
   "metadata": {},
   "outputs": [
    {
     "data": {
      "text/plain": [
       "DatetimeIndex(['2020-08-01', '2020-08-02', '2020-08-03', '2020-08-04',\n",
       "               '2020-08-05', '2020-08-06', '2020-08-07', '2020-08-08',\n",
       "               '2020-08-09', '2020-08-10',\n",
       "               ...\n",
       "               '2020-11-19', '2020-11-20', '2020-11-21', '2020-11-22',\n",
       "               '2020-11-23', '2020-11-24', '2020-11-25', '2020-11-26',\n",
       "               '2020-11-27', '2020-11-28'],\n",
       "              dtype='datetime64[ns]', length=120, freq='D')"
      ]
     },
     "execution_count": 12,
     "metadata": {},
     "output_type": "execute_result"
    }
   ],
   "source": [
    "# Making list of dates for plotting\n",
    "import datetime\n",
    "\n",
    "dates = pd.date_range(start=datetime.datetime(2020, 8, 1), end=datetime.datetime(2020, 11, 28), freq = 'D')\n",
    "\n",
    "dates"
   ]
  },
  {
   "cell_type": "code",
   "execution_count": 14,
   "metadata": {},
   "outputs": [
    {
     "data": {
      "image/png": "[encoded data removed]",
      "text/plain": [
       "<Figure size 1200x320 with 1 Axes>"
      ]
     },
     "metadata": {},
     "output_type": "display_data"
    }
   ],
   "source": [
    "# Total amount of movement in UH\n",
    "\n",
    "plt.figure(num=None, figsize=(15, 4), dpi=80, facecolor='w', edgecolor='k')\n",
    "\n",
    "plt.title('Movement inside UH')\n",
    "plt.xlabel('Date')\n",
    "plt.ylabel('Visits')\n",
    "plt.plot(dates, visits, '-o')\n",
    "plt.show()"
   ]
  },
  {
   "cell_type": "code",
   "execution_count": 15,
   "metadata": {},
   "outputs": [],
   "source": [
    "dfW = pd.Series(visits).to_frame()\n",
    "\n",
    "pd.DataFrame(dfW).to_excel('uh.xlsx', engine='xlsxwriter')"
   ]
  },
  {
   "cell_type": "code",
   "execution_count": null,
   "metadata": {},
   "outputs": [],
   "source": []
  }
 ],
 "metadata": {
  "kernelspec": {
   "display_name": "Python 3",
   "language": "python",
   "name": "python3"
  },
  "language_info": {
   "codemirror_mode": {
    "name": "ipython",
    "version": 3
   },
   "file_extension": ".py",
   "mimetype": "text/x-python",
   "name": "python",
   "nbconvert_exporter": "python",
   "pygments_lexer": "ipython3",
   "version": "3.8.3"
  }
 },
 "nbformat": 4,
 "nbformat_minor": 4
}
